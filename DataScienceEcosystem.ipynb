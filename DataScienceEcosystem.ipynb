{
 "cells": [
  {
   "cell_type": "markdown",
   "id": "be9a2e7a-6c27-4ae1-9aa4-597e72ed5103",
   "metadata": {},
   "source": [
    "# Data Science Tools and Ecosystem"
   ]
  },
  {
   "cell_type": "markdown",
   "id": "865b3e9f-34ed-456f-a78d-efb32efc1872",
   "metadata": {},
   "source": [
    "In this notebook, Data Science Tools and Ecosystem are summarized"
   ]
  },
  {
   "cell_type": "markdown",
   "id": "c4e26ab9-b168-460a-8a94-ee78d1a0d317",
   "metadata": {},
   "source": [
    "Some of the popular languages that Data Scientists use are:"
   ]
  },
  {
   "cell_type": "markdown",
   "id": "b76bb432-6050-46de-84d2-8a1d8a653890",
   "metadata": {},
   "source": [
    "1. Python\n",
    "2. R\n",
    "3. SQL\n",
    "4. Java\n",
    "5. Julia"
   ]
  },
  {
   "cell_type": "markdown",
   "id": "029d37ee-ebfa-4648-97c7-b09919f7c327",
   "metadata": {},
   "source": [
    "Some of the commonly used libraries used by Data Scientists include:"
   ]
  },
  {
   "cell_type": "markdown",
   "id": "119afc86-5550-4217-945a-1b6dda8df430",
   "metadata": {},
   "source": [
    "1. Pandas\n",
    "2. Numpy\n",
    "3. Matplotlib\n",
    "4. PyTorch\n",
    "5. Scikit-learn"
   ]
  },
  {
   "cell_type": "markdown",
   "id": "9adac539-76fd-4682-8bd7-8095ae5c30c0",
   "metadata": {},
   "source": [
    "| Data Science Tools       |\n",
    "|--------------------------|\n",
    "|Jupyter Notebook          |\n",
    "|RStudio                   |\n",
    "|Apache Zeppelin           |"
   ]
  },
  {
   "cell_type": "markdown",
   "id": "31945dc8-069d-47eb-9d7d-8f56e3c39d65",
   "metadata": {},
   "source": [
    "### Below are a few examples of evaluating arithmetic expressions in Python"
   ]
  },
  {
   "cell_type": "code",
   "execution_count": 41,
   "id": "1a55b1be-33de-4401-afca-8f2ab60c403e",
   "metadata": {},
   "outputs": [
    {
     "data": {
      "text/plain": [
       "17"
      ]
     },
     "execution_count": 41,
     "metadata": {},
     "output_type": "execute_result"
    }
   ],
   "source": [
    "#this a simple arithmetic expression to multiply then add integers\n",
    "(3*4)+5"
   ]
  },
  {
   "cell_type": "code",
   "execution_count": 43,
   "id": "808d6b4b-8f8a-4cd2-8421-149f0e96c047",
   "metadata": {},
   "outputs": [
    {
     "data": {
      "text/plain": [
       "3.3333333333333335"
      ]
     },
     "execution_count": 43,
     "metadata": {},
     "output_type": "execute_result"
    }
   ],
   "source": [
    "#This will convert 200 minutes to hours by dividing 60\n",
    "hours = 200/60 \n",
    "hours"
   ]
  },
  {
   "cell_type": "markdown",
   "id": "673dc634-cb61-4eca-b560-ce81964b1081",
   "metadata": {},
   "source": [
    "**Objectives:**\n",
    "- List popular languages for Data Science\n",
    "- Identify commonly used libraries for Data Science\n",
    "- Create tables and lists in Markdown\n",
    "- Understand and evaluate basic arithmetic expressions in Python\n",
    "- Convert minutes into hours using Python"
   ]
  },
  {
   "cell_type": "markdown",
   "id": "ce6ff626-234e-4652-b8b4-17e1115afb6b",
   "metadata": {},
   "source": [
    "## Author\n",
    "Josemar Lima"
   ]
  },
  {
   "cell_type": "code",
   "execution_count": null,
   "id": "82603686-7514-4eff-92b5-0850ac444650",
   "metadata": {},
   "outputs": [],
   "source": []
  }
 ],
 "metadata": {
  "kernelspec": {
   "display_name": "anaconda-panel-2023.05-py310",
   "language": "python",
   "name": "conda-env-anaconda-panel-2023.05-py310-py"
  },
  "language_info": {
   "codemirror_mode": {
    "name": "ipython",
    "version": 3
   },
   "file_extension": ".py",
   "mimetype": "text/x-python",
   "name": "python",
   "nbconvert_exporter": "python",
   "pygments_lexer": "ipython3",
   "version": "3.11.5"
  }
 },
 "nbformat": 4,
 "nbformat_minor": 5
}
